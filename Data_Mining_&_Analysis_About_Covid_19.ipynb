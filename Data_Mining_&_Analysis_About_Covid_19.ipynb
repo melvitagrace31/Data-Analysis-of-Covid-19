{
  "nbformat": 4,
  "nbformat_minor": 0,
  "metadata": {
    "colab": {
      "provenance": []
    },
    "kernelspec": {
      "name": "python3",
      "display_name": "Python 3"
    },
    "language_info": {
      "name": "python"
    }
  },
  "cells": [
    {
      "cell_type": "markdown",
      "source": [
        "**Data Mining & Analysis About Covid-19**\n",
        "\n",
        "Dataset Source: https://www.kaggle.com/datasets/meirnizri/covid19-dataset\n",
        "\n",
        "Problem Statement:\n",
        "\n",
        "*In the past few years, Covid-19 has changed the way people live. That is caused by the danger of Covid-19 itself which could end people's life. Many people in the world lost their partners because of Covid-19. Therefore it is important if could identify the age which potentially has a high death rate caused by Covid-19, so, we could build up preventive measurement to avoid it.*"
      ],
      "metadata": {
        "id": "wEDvy-VCLjBI"
      }
    },
    {
      "cell_type": "code",
      "execution_count": null,
      "metadata": {
        "id": "dUo4A4TPLiE5"
      },
      "outputs": [],
      "source": [
        "#Import Modules\n",
        "import numpy as np\n",
        "import pandas as pd\n",
        "import matplotlib.pyplot as plt\n",
        "import seaborn as sns\n",
        "\n",
        "#Import files\n",
        "df = pd.read_csv(\"/content/sample_data/Covid Data.csv\")"
      ]
    },
    {
      "cell_type": "code",
      "source": [
        "#Preview the CSV\n",
        "df"
      ],
      "metadata": {
        "colab": {
          "base_uri": "https://localhost:8080/",
          "height": 488
        },
        "id": "JprZyuOON6pr",
        "outputId": "1eda004a-4c7c-45c6-f5e9-fb500412c7ef"
      },
      "execution_count": null,
      "outputs": [
        {
          "output_type": "execute_result",
          "data": {
            "text/plain": [
              "         USMER  MEDICAL_UNIT  SEX  PATIENT_TYPE   DATE_DIED  INTUBED  \\\n",
              "0            2             1    1             1  03/05/2020       97   \n",
              "1            2             1    2             1  03/06/2020       97   \n",
              "2            2             1    2             2  09/06/2020        1   \n",
              "3            2             1    1             1  12/06/2020       97   \n",
              "4            2             1    2             1  21/06/2020       97   \n",
              "...        ...           ...  ...           ...         ...      ...   \n",
              "1048570      2            13    2             1  9999-99-99       97   \n",
              "1048571      1            13    2             2  9999-99-99        2   \n",
              "1048572      2            13    2             1  9999-99-99       97   \n",
              "1048573      2            13    2             1  9999-99-99       97   \n",
              "1048574      2            13    2             1  9999-99-99       97   \n",
              "\n",
              "         PNEUMONIA  AGE  PREGNANT  DIABETES  ...  ASTHMA  INMSUPR  \\\n",
              "0                1   65         2         2  ...       2        2   \n",
              "1                1   72        97         2  ...       2        2   \n",
              "2                2   55        97         1  ...       2        2   \n",
              "3                2   53         2         2  ...       2        2   \n",
              "4                2   68        97         1  ...       2        2   \n",
              "...            ...  ...       ...       ...  ...     ...      ...   \n",
              "1048570          2   40        97         2  ...       2        2   \n",
              "1048571          2   51        97         2  ...       2        2   \n",
              "1048572          2   55        97         2  ...       2        2   \n",
              "1048573          2   28        97         2  ...       2        2   \n",
              "1048574          2   52        97         2  ...       2        2   \n",
              "\n",
              "         HIPERTENSION  OTHER_DISEASE  CARDIOVASCULAR  OBESITY  RENAL_CHRONIC  \\\n",
              "0                   1              2               2        2              2   \n",
              "1                   1              2               2        1              1   \n",
              "2                   2              2               2        2              2   \n",
              "3                   2              2               2        2              2   \n",
              "4                   1              2               2        2              2   \n",
              "...               ...            ...             ...      ...            ...   \n",
              "1048570             2              2               2        2              2   \n",
              "1048571             1              2               2        2              2   \n",
              "1048572             2              2               2        2              2   \n",
              "1048573             2              2               2        2              2   \n",
              "1048574             2              2               2        2              2   \n",
              "\n",
              "         TOBACCO  CLASIFFICATION_FINAL  ICU  \n",
              "0              2                     3   97  \n",
              "1              2                     5   97  \n",
              "2              2                     3    2  \n",
              "3              2                     7   97  \n",
              "4              2                     3   97  \n",
              "...          ...                   ...  ...  \n",
              "1048570        2                     7   97  \n",
              "1048571        2                     7    2  \n",
              "1048572        2                     7   97  \n",
              "1048573        2                     7   97  \n",
              "1048574        2                     7   97  \n",
              "\n",
              "[1048575 rows x 21 columns]"
            ],
            "text/html": [
              "\n",
              "  <div id=\"df-23c8e71f-2ef9-4d6c-992c-51e2eefd60f7\">\n",
              "    <div class=\"colab-df-container\">\n",
              "      <div>\n",
              "<style scoped>\n",
              "    .dataframe tbody tr th:only-of-type {\n",
              "        vertical-align: middle;\n",
              "    }\n",
              "\n",
              "    .dataframe tbody tr th {\n",
              "        vertical-align: top;\n",
              "    }\n",
              "\n",
              "    .dataframe thead th {\n",
              "        text-align: right;\n",
              "    }\n",
              "</style>\n",
              "<table border=\"1\" class=\"dataframe\">\n",
              "  <thead>\n",
              "    <tr style=\"text-align: right;\">\n",
              "      <th></th>\n",
              "      <th>USMER</th>\n",
              "      <th>MEDICAL_UNIT</th>\n",
              "      <th>SEX</th>\n",
              "      <th>PATIENT_TYPE</th>\n",
              "      <th>DATE_DIED</th>\n",
              "      <th>INTUBED</th>\n",
              "      <th>PNEUMONIA</th>\n",
              "      <th>AGE</th>\n",
              "      <th>PREGNANT</th>\n",
              "      <th>DIABETES</th>\n",
              "      <th>...</th>\n",
              "      <th>ASTHMA</th>\n",
              "      <th>INMSUPR</th>\n",
              "      <th>HIPERTENSION</th>\n",
              "      <th>OTHER_DISEASE</th>\n",
              "      <th>CARDIOVASCULAR</th>\n",
              "      <th>OBESITY</th>\n",
              "      <th>RENAL_CHRONIC</th>\n",
              "      <th>TOBACCO</th>\n",
              "      <th>CLASIFFICATION_FINAL</th>\n",
              "      <th>ICU</th>\n",
              "    </tr>\n",
              "  </thead>\n",
              "  <tbody>\n",
              "    <tr>\n",
              "      <th>0</th>\n",
              "      <td>2</td>\n",
              "      <td>1</td>\n",
              "      <td>1</td>\n",
              "      <td>1</td>\n",
              "      <td>03/05/2020</td>\n",
              "      <td>97</td>\n",
              "      <td>1</td>\n",
              "      <td>65</td>\n",
              "      <td>2</td>\n",
              "      <td>2</td>\n",
              "      <td>...</td>\n",
              "      <td>2</td>\n",
              "      <td>2</td>\n",
              "      <td>1</td>\n",
              "      <td>2</td>\n",
              "      <td>2</td>\n",
              "      <td>2</td>\n",
              "      <td>2</td>\n",
              "      <td>2</td>\n",
              "      <td>3</td>\n",
              "      <td>97</td>\n",
              "    </tr>\n",
              "    <tr>\n",
              "      <th>1</th>\n",
              "      <td>2</td>\n",
              "      <td>1</td>\n",
              "      <td>2</td>\n",
              "      <td>1</td>\n",
              "      <td>03/06/2020</td>\n",
              "      <td>97</td>\n",
              "      <td>1</td>\n",
              "      <td>72</td>\n",
              "      <td>97</td>\n",
              "      <td>2</td>\n",
              "      <td>...</td>\n",
              "      <td>2</td>\n",
              "      <td>2</td>\n",
              "      <td>1</td>\n",
              "      <td>2</td>\n",
              "      <td>2</td>\n",
              "      <td>1</td>\n",
              "      <td>1</td>\n",
              "      <td>2</td>\n",
              "      <td>5</td>\n",
              "      <td>97</td>\n",
              "    </tr>\n",
              "    <tr>\n",
              "      <th>2</th>\n",
              "      <td>2</td>\n",
              "      <td>1</td>\n",
              "      <td>2</td>\n",
              "      <td>2</td>\n",
              "      <td>09/06/2020</td>\n",
              "      <td>1</td>\n",
              "      <td>2</td>\n",
              "      <td>55</td>\n",
              "      <td>97</td>\n",
              "      <td>1</td>\n",
              "      <td>...</td>\n",
              "      <td>2</td>\n",
              "      <td>2</td>\n",
              "      <td>2</td>\n",
              "      <td>2</td>\n",
              "      <td>2</td>\n",
              "      <td>2</td>\n",
              "      <td>2</td>\n",
              "      <td>2</td>\n",
              "      <td>3</td>\n",
              "      <td>2</td>\n",
              "    </tr>\n",
              "    <tr>\n",
              "      <th>3</th>\n",
              "      <td>2</td>\n",
              "      <td>1</td>\n",
              "      <td>1</td>\n",
              "      <td>1</td>\n",
              "      <td>12/06/2020</td>\n",
              "      <td>97</td>\n",
              "      <td>2</td>\n",
              "      <td>53</td>\n",
              "      <td>2</td>\n",
              "      <td>2</td>\n",
              "      <td>...</td>\n",
              "      <td>2</td>\n",
              "      <td>2</td>\n",
              "      <td>2</td>\n",
              "      <td>2</td>\n",
              "      <td>2</td>\n",
              "      <td>2</td>\n",
              "      <td>2</td>\n",
              "      <td>2</td>\n",
              "      <td>7</td>\n",
              "      <td>97</td>\n",
              "    </tr>\n",
              "    <tr>\n",
              "      <th>4</th>\n",
              "      <td>2</td>\n",
              "      <td>1</td>\n",
              "      <td>2</td>\n",
              "      <td>1</td>\n",
              "      <td>21/06/2020</td>\n",
              "      <td>97</td>\n",
              "      <td>2</td>\n",
              "      <td>68</td>\n",
              "      <td>97</td>\n",
              "      <td>1</td>\n",
              "      <td>...</td>\n",
              "      <td>2</td>\n",
              "      <td>2</td>\n",
              "      <td>1</td>\n",
              "      <td>2</td>\n",
              "      <td>2</td>\n",
              "      <td>2</td>\n",
              "      <td>2</td>\n",
              "      <td>2</td>\n",
              "      <td>3</td>\n",
              "      <td>97</td>\n",
              "    </tr>\n",
              "    <tr>\n",
              "      <th>...</th>\n",
              "      <td>...</td>\n",
              "      <td>...</td>\n",
              "      <td>...</td>\n",
              "      <td>...</td>\n",
              "      <td>...</td>\n",
              "      <td>...</td>\n",
              "      <td>...</td>\n",
              "      <td>...</td>\n",
              "      <td>...</td>\n",
              "      <td>...</td>\n",
              "      <td>...</td>\n",
              "      <td>...</td>\n",
              "      <td>...</td>\n",
              "      <td>...</td>\n",
              "      <td>...</td>\n",
              "      <td>...</td>\n",
              "      <td>...</td>\n",
              "      <td>...</td>\n",
              "      <td>...</td>\n",
              "      <td>...</td>\n",
              "      <td>...</td>\n",
              "    </tr>\n",
              "    <tr>\n",
              "      <th>1048570</th>\n",
              "      <td>2</td>\n",
              "      <td>13</td>\n",
              "      <td>2</td>\n",
              "      <td>1</td>\n",
              "      <td>9999-99-99</td>\n",
              "      <td>97</td>\n",
              "      <td>2</td>\n",
              "      <td>40</td>\n",
              "      <td>97</td>\n",
              "      <td>2</td>\n",
              "      <td>...</td>\n",
              "      <td>2</td>\n",
              "      <td>2</td>\n",
              "      <td>2</td>\n",
              "      <td>2</td>\n",
              "      <td>2</td>\n",
              "      <td>2</td>\n",
              "      <td>2</td>\n",
              "      <td>2</td>\n",
              "      <td>7</td>\n",
              "      <td>97</td>\n",
              "    </tr>\n",
              "    <tr>\n",
              "      <th>1048571</th>\n",
              "      <td>1</td>\n",
              "      <td>13</td>\n",
              "      <td>2</td>\n",
              "      <td>2</td>\n",
              "      <td>9999-99-99</td>\n",
              "      <td>2</td>\n",
              "      <td>2</td>\n",
              "      <td>51</td>\n",
              "      <td>97</td>\n",
              "      <td>2</td>\n",
              "      <td>...</td>\n",
              "      <td>2</td>\n",
              "      <td>2</td>\n",
              "      <td>1</td>\n",
              "      <td>2</td>\n",
              "      <td>2</td>\n",
              "      <td>2</td>\n",
              "      <td>2</td>\n",
              "      <td>2</td>\n",
              "      <td>7</td>\n",
              "      <td>2</td>\n",
              "    </tr>\n",
              "    <tr>\n",
              "      <th>1048572</th>\n",
              "      <td>2</td>\n",
              "      <td>13</td>\n",
              "      <td>2</td>\n",
              "      <td>1</td>\n",
              "      <td>9999-99-99</td>\n",
              "      <td>97</td>\n",
              "      <td>2</td>\n",
              "      <td>55</td>\n",
              "      <td>97</td>\n",
              "      <td>2</td>\n",
              "      <td>...</td>\n",
              "      <td>2</td>\n",
              "      <td>2</td>\n",
              "      <td>2</td>\n",
              "      <td>2</td>\n",
              "      <td>2</td>\n",
              "      <td>2</td>\n",
              "      <td>2</td>\n",
              "      <td>2</td>\n",
              "      <td>7</td>\n",
              "      <td>97</td>\n",
              "    </tr>\n",
              "    <tr>\n",
              "      <th>1048573</th>\n",
              "      <td>2</td>\n",
              "      <td>13</td>\n",
              "      <td>2</td>\n",
              "      <td>1</td>\n",
              "      <td>9999-99-99</td>\n",
              "      <td>97</td>\n",
              "      <td>2</td>\n",
              "      <td>28</td>\n",
              "      <td>97</td>\n",
              "      <td>2</td>\n",
              "      <td>...</td>\n",
              "      <td>2</td>\n",
              "      <td>2</td>\n",
              "      <td>2</td>\n",
              "      <td>2</td>\n",
              "      <td>2</td>\n",
              "      <td>2</td>\n",
              "      <td>2</td>\n",
              "      <td>2</td>\n",
              "      <td>7</td>\n",
              "      <td>97</td>\n",
              "    </tr>\n",
              "    <tr>\n",
              "      <th>1048574</th>\n",
              "      <td>2</td>\n",
              "      <td>13</td>\n",
              "      <td>2</td>\n",
              "      <td>1</td>\n",
              "      <td>9999-99-99</td>\n",
              "      <td>97</td>\n",
              "      <td>2</td>\n",
              "      <td>52</td>\n",
              "      <td>97</td>\n",
              "      <td>2</td>\n",
              "      <td>...</td>\n",
              "      <td>2</td>\n",
              "      <td>2</td>\n",
              "      <td>2</td>\n",
              "      <td>2</td>\n",
              "      <td>2</td>\n",
              "      <td>2</td>\n",
              "      <td>2</td>\n",
              "      <td>2</td>\n",
              "      <td>7</td>\n",
              "      <td>97</td>\n",
              "    </tr>\n",
              "  </tbody>\n",
              "</table>\n",
              "<p>1048575 rows × 21 columns</p>\n",
              "</div>\n",
              "      <button class=\"colab-df-convert\" onclick=\"convertToInteractive('df-23c8e71f-2ef9-4d6c-992c-51e2eefd60f7')\"\n",
              "              title=\"Convert this dataframe to an interactive table.\"\n",
              "              style=\"display:none;\">\n",
              "        \n",
              "  <svg xmlns=\"http://www.w3.org/2000/svg\" height=\"24px\"viewBox=\"0 0 24 24\"\n",
              "       width=\"24px\">\n",
              "    <path d=\"M0 0h24v24H0V0z\" fill=\"none\"/>\n",
              "    <path d=\"M18.56 5.44l.94 2.06.94-2.06 2.06-.94-2.06-.94-.94-2.06-.94 2.06-2.06.94zm-11 1L8.5 8.5l.94-2.06 2.06-.94-2.06-.94L8.5 2.5l-.94 2.06-2.06.94zm10 10l.94 2.06.94-2.06 2.06-.94-2.06-.94-.94-2.06-.94 2.06-2.06.94z\"/><path d=\"M17.41 7.96l-1.37-1.37c-.4-.4-.92-.59-1.43-.59-.52 0-1.04.2-1.43.59L10.3 9.45l-7.72 7.72c-.78.78-.78 2.05 0 2.83L4 21.41c.39.39.9.59 1.41.59.51 0 1.02-.2 1.41-.59l7.78-7.78 2.81-2.81c.8-.78.8-2.07 0-2.86zM5.41 20L4 18.59l7.72-7.72 1.47 1.35L5.41 20z\"/>\n",
              "  </svg>\n",
              "      </button>\n",
              "      \n",
              "  <style>\n",
              "    .colab-df-container {\n",
              "      display:flex;\n",
              "      flex-wrap:wrap;\n",
              "      gap: 12px;\n",
              "    }\n",
              "\n",
              "    .colab-df-convert {\n",
              "      background-color: #E8F0FE;\n",
              "      border: none;\n",
              "      border-radius: 50%;\n",
              "      cursor: pointer;\n",
              "      display: none;\n",
              "      fill: #1967D2;\n",
              "      height: 32px;\n",
              "      padding: 0 0 0 0;\n",
              "      width: 32px;\n",
              "    }\n",
              "\n",
              "    .colab-df-convert:hover {\n",
              "      background-color: #E2EBFA;\n",
              "      box-shadow: 0px 1px 2px rgba(60, 64, 67, 0.3), 0px 1px 3px 1px rgba(60, 64, 67, 0.15);\n",
              "      fill: #174EA6;\n",
              "    }\n",
              "\n",
              "    [theme=dark] .colab-df-convert {\n",
              "      background-color: #3B4455;\n",
              "      fill: #D2E3FC;\n",
              "    }\n",
              "\n",
              "    [theme=dark] .colab-df-convert:hover {\n",
              "      background-color: #434B5C;\n",
              "      box-shadow: 0px 1px 3px 1px rgba(0, 0, 0, 0.15);\n",
              "      filter: drop-shadow(0px 1px 2px rgba(0, 0, 0, 0.3));\n",
              "      fill: #FFFFFF;\n",
              "    }\n",
              "  </style>\n",
              "\n",
              "      <script>\n",
              "        const buttonEl =\n",
              "          document.querySelector('#df-23c8e71f-2ef9-4d6c-992c-51e2eefd60f7 button.colab-df-convert');\n",
              "        buttonEl.style.display =\n",
              "          google.colab.kernel.accessAllowed ? 'block' : 'none';\n",
              "\n",
              "        async function convertToInteractive(key) {\n",
              "          const element = document.querySelector('#df-23c8e71f-2ef9-4d6c-992c-51e2eefd60f7');\n",
              "          const dataTable =\n",
              "            await google.colab.kernel.invokeFunction('convertToInteractive',\n",
              "                                                     [key], {});\n",
              "          if (!dataTable) return;\n",
              "\n",
              "          const docLinkHtml = 'Like what you see? Visit the ' +\n",
              "            '<a target=\"_blank\" href=https://colab.research.google.com/notebooks/data_table.ipynb>data table notebook</a>'\n",
              "            + ' to learn more about interactive tables.';\n",
              "          element.innerHTML = '';\n",
              "          dataTable['output_type'] = 'display_data';\n",
              "          await google.colab.output.renderOutput(dataTable, element);\n",
              "          const docLink = document.createElement('div');\n",
              "          docLink.innerHTML = docLinkHtml;\n",
              "          element.appendChild(docLink);\n",
              "        }\n",
              "      </script>\n",
              "    </div>\n",
              "  </div>\n",
              "  "
            ]
          },
          "metadata": {},
          "execution_count": 2
        }
      ]
    },
    {
      "cell_type": "code",
      "source": [
        "df.columns = [col.lower() for col in df.columns] #Make column name into lower case\n",
        "df"
      ],
      "metadata": {
        "colab": {
          "base_uri": "https://localhost:8080/",
          "height": 488
        },
        "id": "HDr7tW5XXpBy",
        "outputId": "1a3942dc-fef2-4402-ca86-437fa528cec8"
      },
      "execution_count": null,
      "outputs": [
        {
          "output_type": "execute_result",
          "data": {
            "text/plain": [
              "         usmer  medical_unit  sex  patient_type   date_died  intubed  \\\n",
              "0            2             1    1             1  03/05/2020       97   \n",
              "1            2             1    2             1  03/06/2020       97   \n",
              "2            2             1    2             2  09/06/2020        1   \n",
              "3            2             1    1             1  12/06/2020       97   \n",
              "4            2             1    2             1  21/06/2020       97   \n",
              "...        ...           ...  ...           ...         ...      ...   \n",
              "1048570      2            13    2             1  9999-99-99       97   \n",
              "1048571      1            13    2             2  9999-99-99        2   \n",
              "1048572      2            13    2             1  9999-99-99       97   \n",
              "1048573      2            13    2             1  9999-99-99       97   \n",
              "1048574      2            13    2             1  9999-99-99       97   \n",
              "\n",
              "         pneumonia  age  pregnant  diabetes  ...  asthma  inmsupr  \\\n",
              "0                1   65         2         2  ...       2        2   \n",
              "1                1   72        97         2  ...       2        2   \n",
              "2                2   55        97         1  ...       2        2   \n",
              "3                2   53         2         2  ...       2        2   \n",
              "4                2   68        97         1  ...       2        2   \n",
              "...            ...  ...       ...       ...  ...     ...      ...   \n",
              "1048570          2   40        97         2  ...       2        2   \n",
              "1048571          2   51        97         2  ...       2        2   \n",
              "1048572          2   55        97         2  ...       2        2   \n",
              "1048573          2   28        97         2  ...       2        2   \n",
              "1048574          2   52        97         2  ...       2        2   \n",
              "\n",
              "         hipertension  other_disease  cardiovascular  obesity  renal_chronic  \\\n",
              "0                   1              2               2        2              2   \n",
              "1                   1              2               2        1              1   \n",
              "2                   2              2               2        2              2   \n",
              "3                   2              2               2        2              2   \n",
              "4                   1              2               2        2              2   \n",
              "...               ...            ...             ...      ...            ...   \n",
              "1048570             2              2               2        2              2   \n",
              "1048571             1              2               2        2              2   \n",
              "1048572             2              2               2        2              2   \n",
              "1048573             2              2               2        2              2   \n",
              "1048574             2              2               2        2              2   \n",
              "\n",
              "         tobacco  clasiffication_final  icu  \n",
              "0              2                     3   97  \n",
              "1              2                     5   97  \n",
              "2              2                     3    2  \n",
              "3              2                     7   97  \n",
              "4              2                     3   97  \n",
              "...          ...                   ...  ...  \n",
              "1048570        2                     7   97  \n",
              "1048571        2                     7    2  \n",
              "1048572        2                     7   97  \n",
              "1048573        2                     7   97  \n",
              "1048574        2                     7   97  \n",
              "\n",
              "[1048575 rows x 21 columns]"
            ],
            "text/html": [
              "\n",
              "  <div id=\"df-fea1ec71-c2d1-4098-8424-7234f3a4cf64\">\n",
              "    <div class=\"colab-df-container\">\n",
              "      <div>\n",
              "<style scoped>\n",
              "    .dataframe tbody tr th:only-of-type {\n",
              "        vertical-align: middle;\n",
              "    }\n",
              "\n",
              "    .dataframe tbody tr th {\n",
              "        vertical-align: top;\n",
              "    }\n",
              "\n",
              "    .dataframe thead th {\n",
              "        text-align: right;\n",
              "    }\n",
              "</style>\n",
              "<table border=\"1\" class=\"dataframe\">\n",
              "  <thead>\n",
              "    <tr style=\"text-align: right;\">\n",
              "      <th></th>\n",
              "      <th>usmer</th>\n",
              "      <th>medical_unit</th>\n",
              "      <th>sex</th>\n",
              "      <th>patient_type</th>\n",
              "      <th>date_died</th>\n",
              "      <th>intubed</th>\n",
              "      <th>pneumonia</th>\n",
              "      <th>age</th>\n",
              "      <th>pregnant</th>\n",
              "      <th>diabetes</th>\n",
              "      <th>...</th>\n",
              "      <th>asthma</th>\n",
              "      <th>inmsupr</th>\n",
              "      <th>hipertension</th>\n",
              "      <th>other_disease</th>\n",
              "      <th>cardiovascular</th>\n",
              "      <th>obesity</th>\n",
              "      <th>renal_chronic</th>\n",
              "      <th>tobacco</th>\n",
              "      <th>clasiffication_final</th>\n",
              "      <th>icu</th>\n",
              "    </tr>\n",
              "  </thead>\n",
              "  <tbody>\n",
              "    <tr>\n",
              "      <th>0</th>\n",
              "      <td>2</td>\n",
              "      <td>1</td>\n",
              "      <td>1</td>\n",
              "      <td>1</td>\n",
              "      <td>03/05/2020</td>\n",
              "      <td>97</td>\n",
              "      <td>1</td>\n",
              "      <td>65</td>\n",
              "      <td>2</td>\n",
              "      <td>2</td>\n",
              "      <td>...</td>\n",
              "      <td>2</td>\n",
              "      <td>2</td>\n",
              "      <td>1</td>\n",
              "      <td>2</td>\n",
              "      <td>2</td>\n",
              "      <td>2</td>\n",
              "      <td>2</td>\n",
              "      <td>2</td>\n",
              "      <td>3</td>\n",
              "      <td>97</td>\n",
              "    </tr>\n",
              "    <tr>\n",
              "      <th>1</th>\n",
              "      <td>2</td>\n",
              "      <td>1</td>\n",
              "      <td>2</td>\n",
              "      <td>1</td>\n",
              "      <td>03/06/2020</td>\n",
              "      <td>97</td>\n",
              "      <td>1</td>\n",
              "      <td>72</td>\n",
              "      <td>97</td>\n",
              "      <td>2</td>\n",
              "      <td>...</td>\n",
              "      <td>2</td>\n",
              "      <td>2</td>\n",
              "      <td>1</td>\n",
              "      <td>2</td>\n",
              "      <td>2</td>\n",
              "      <td>1</td>\n",
              "      <td>1</td>\n",
              "      <td>2</td>\n",
              "      <td>5</td>\n",
              "      <td>97</td>\n",
              "    </tr>\n",
              "    <tr>\n",
              "      <th>2</th>\n",
              "      <td>2</td>\n",
              "      <td>1</td>\n",
              "      <td>2</td>\n",
              "      <td>2</td>\n",
              "      <td>09/06/2020</td>\n",
              "      <td>1</td>\n",
              "      <td>2</td>\n",
              "      <td>55</td>\n",
              "      <td>97</td>\n",
              "      <td>1</td>\n",
              "      <td>...</td>\n",
              "      <td>2</td>\n",
              "      <td>2</td>\n",
              "      <td>2</td>\n",
              "      <td>2</td>\n",
              "      <td>2</td>\n",
              "      <td>2</td>\n",
              "      <td>2</td>\n",
              "      <td>2</td>\n",
              "      <td>3</td>\n",
              "      <td>2</td>\n",
              "    </tr>\n",
              "    <tr>\n",
              "      <th>3</th>\n",
              "      <td>2</td>\n",
              "      <td>1</td>\n",
              "      <td>1</td>\n",
              "      <td>1</td>\n",
              "      <td>12/06/2020</td>\n",
              "      <td>97</td>\n",
              "      <td>2</td>\n",
              "      <td>53</td>\n",
              "      <td>2</td>\n",
              "      <td>2</td>\n",
              "      <td>...</td>\n",
              "      <td>2</td>\n",
              "      <td>2</td>\n",
              "      <td>2</td>\n",
              "      <td>2</td>\n",
              "      <td>2</td>\n",
              "      <td>2</td>\n",
              "      <td>2</td>\n",
              "      <td>2</td>\n",
              "      <td>7</td>\n",
              "      <td>97</td>\n",
              "    </tr>\n",
              "    <tr>\n",
              "      <th>4</th>\n",
              "      <td>2</td>\n",
              "      <td>1</td>\n",
              "      <td>2</td>\n",
              "      <td>1</td>\n",
              "      <td>21/06/2020</td>\n",
              "      <td>97</td>\n",
              "      <td>2</td>\n",
              "      <td>68</td>\n",
              "      <td>97</td>\n",
              "      <td>1</td>\n",
              "      <td>...</td>\n",
              "      <td>2</td>\n",
              "      <td>2</td>\n",
              "      <td>1</td>\n",
              "      <td>2</td>\n",
              "      <td>2</td>\n",
              "      <td>2</td>\n",
              "      <td>2</td>\n",
              "      <td>2</td>\n",
              "      <td>3</td>\n",
              "      <td>97</td>\n",
              "    </tr>\n",
              "    <tr>\n",
              "      <th>...</th>\n",
              "      <td>...</td>\n",
              "      <td>...</td>\n",
              "      <td>...</td>\n",
              "      <td>...</td>\n",
              "      <td>...</td>\n",
              "      <td>...</td>\n",
              "      <td>...</td>\n",
              "      <td>...</td>\n",
              "      <td>...</td>\n",
              "      <td>...</td>\n",
              "      <td>...</td>\n",
              "      <td>...</td>\n",
              "      <td>...</td>\n",
              "      <td>...</td>\n",
              "      <td>...</td>\n",
              "      <td>...</td>\n",
              "      <td>...</td>\n",
              "      <td>...</td>\n",
              "      <td>...</td>\n",
              "      <td>...</td>\n",
              "      <td>...</td>\n",
              "    </tr>\n",
              "    <tr>\n",
              "      <th>1048570</th>\n",
              "      <td>2</td>\n",
              "      <td>13</td>\n",
              "      <td>2</td>\n",
              "      <td>1</td>\n",
              "      <td>9999-99-99</td>\n",
              "      <td>97</td>\n",
              "      <td>2</td>\n",
              "      <td>40</td>\n",
              "      <td>97</td>\n",
              "      <td>2</td>\n",
              "      <td>...</td>\n",
              "      <td>2</td>\n",
              "      <td>2</td>\n",
              "      <td>2</td>\n",
              "      <td>2</td>\n",
              "      <td>2</td>\n",
              "      <td>2</td>\n",
              "      <td>2</td>\n",
              "      <td>2</td>\n",
              "      <td>7</td>\n",
              "      <td>97</td>\n",
              "    </tr>\n",
              "    <tr>\n",
              "      <th>1048571</th>\n",
              "      <td>1</td>\n",
              "      <td>13</td>\n",
              "      <td>2</td>\n",
              "      <td>2</td>\n",
              "      <td>9999-99-99</td>\n",
              "      <td>2</td>\n",
              "      <td>2</td>\n",
              "      <td>51</td>\n",
              "      <td>97</td>\n",
              "      <td>2</td>\n",
              "      <td>...</td>\n",
              "      <td>2</td>\n",
              "      <td>2</td>\n",
              "      <td>1</td>\n",
              "      <td>2</td>\n",
              "      <td>2</td>\n",
              "      <td>2</td>\n",
              "      <td>2</td>\n",
              "      <td>2</td>\n",
              "      <td>7</td>\n",
              "      <td>2</td>\n",
              "    </tr>\n",
              "    <tr>\n",
              "      <th>1048572</th>\n",
              "      <td>2</td>\n",
              "      <td>13</td>\n",
              "      <td>2</td>\n",
              "      <td>1</td>\n",
              "      <td>9999-99-99</td>\n",
              "      <td>97</td>\n",
              "      <td>2</td>\n",
              "      <td>55</td>\n",
              "      <td>97</td>\n",
              "      <td>2</td>\n",
              "      <td>...</td>\n",
              "      <td>2</td>\n",
              "      <td>2</td>\n",
              "      <td>2</td>\n",
              "      <td>2</td>\n",
              "      <td>2</td>\n",
              "      <td>2</td>\n",
              "      <td>2</td>\n",
              "      <td>2</td>\n",
              "      <td>7</td>\n",
              "      <td>97</td>\n",
              "    </tr>\n",
              "    <tr>\n",
              "      <th>1048573</th>\n",
              "      <td>2</td>\n",
              "      <td>13</td>\n",
              "      <td>2</td>\n",
              "      <td>1</td>\n",
              "      <td>9999-99-99</td>\n",
              "      <td>97</td>\n",
              "      <td>2</td>\n",
              "      <td>28</td>\n",
              "      <td>97</td>\n",
              "      <td>2</td>\n",
              "      <td>...</td>\n",
              "      <td>2</td>\n",
              "      <td>2</td>\n",
              "      <td>2</td>\n",
              "      <td>2</td>\n",
              "      <td>2</td>\n",
              "      <td>2</td>\n",
              "      <td>2</td>\n",
              "      <td>2</td>\n",
              "      <td>7</td>\n",
              "      <td>97</td>\n",
              "    </tr>\n",
              "    <tr>\n",
              "      <th>1048574</th>\n",
              "      <td>2</td>\n",
              "      <td>13</td>\n",
              "      <td>2</td>\n",
              "      <td>1</td>\n",
              "      <td>9999-99-99</td>\n",
              "      <td>97</td>\n",
              "      <td>2</td>\n",
              "      <td>52</td>\n",
              "      <td>97</td>\n",
              "      <td>2</td>\n",
              "      <td>...</td>\n",
              "      <td>2</td>\n",
              "      <td>2</td>\n",
              "      <td>2</td>\n",
              "      <td>2</td>\n",
              "      <td>2</td>\n",
              "      <td>2</td>\n",
              "      <td>2</td>\n",
              "      <td>2</td>\n",
              "      <td>7</td>\n",
              "      <td>97</td>\n",
              "    </tr>\n",
              "  </tbody>\n",
              "</table>\n",
              "<p>1048575 rows × 21 columns</p>\n",
              "</div>\n",
              "      <button class=\"colab-df-convert\" onclick=\"convertToInteractive('df-fea1ec71-c2d1-4098-8424-7234f3a4cf64')\"\n",
              "              title=\"Convert this dataframe to an interactive table.\"\n",
              "              style=\"display:none;\">\n",
              "        \n",
              "  <svg xmlns=\"http://www.w3.org/2000/svg\" height=\"24px\"viewBox=\"0 0 24 24\"\n",
              "       width=\"24px\">\n",
              "    <path d=\"M0 0h24v24H0V0z\" fill=\"none\"/>\n",
              "    <path d=\"M18.56 5.44l.94 2.06.94-2.06 2.06-.94-2.06-.94-.94-2.06-.94 2.06-2.06.94zm-11 1L8.5 8.5l.94-2.06 2.06-.94-2.06-.94L8.5 2.5l-.94 2.06-2.06.94zm10 10l.94 2.06.94-2.06 2.06-.94-2.06-.94-.94-2.06-.94 2.06-2.06.94z\"/><path d=\"M17.41 7.96l-1.37-1.37c-.4-.4-.92-.59-1.43-.59-.52 0-1.04.2-1.43.59L10.3 9.45l-7.72 7.72c-.78.78-.78 2.05 0 2.83L4 21.41c.39.39.9.59 1.41.59.51 0 1.02-.2 1.41-.59l7.78-7.78 2.81-2.81c.8-.78.8-2.07 0-2.86zM5.41 20L4 18.59l7.72-7.72 1.47 1.35L5.41 20z\"/>\n",
              "  </svg>\n",
              "      </button>\n",
              "      \n",
              "  <style>\n",
              "    .colab-df-container {\n",
              "      display:flex;\n",
              "      flex-wrap:wrap;\n",
              "      gap: 12px;\n",
              "    }\n",
              "\n",
              "    .colab-df-convert {\n",
              "      background-color: #E8F0FE;\n",
              "      border: none;\n",
              "      border-radius: 50%;\n",
              "      cursor: pointer;\n",
              "      display: none;\n",
              "      fill: #1967D2;\n",
              "      height: 32px;\n",
              "      padding: 0 0 0 0;\n",
              "      width: 32px;\n",
              "    }\n",
              "\n",
              "    .colab-df-convert:hover {\n",
              "      background-color: #E2EBFA;\n",
              "      box-shadow: 0px 1px 2px rgba(60, 64, 67, 0.3), 0px 1px 3px 1px rgba(60, 64, 67, 0.15);\n",
              "      fill: #174EA6;\n",
              "    }\n",
              "\n",
              "    [theme=dark] .colab-df-convert {\n",
              "      background-color: #3B4455;\n",
              "      fill: #D2E3FC;\n",
              "    }\n",
              "\n",
              "    [theme=dark] .colab-df-convert:hover {\n",
              "      background-color: #434B5C;\n",
              "      box-shadow: 0px 1px 3px 1px rgba(0, 0, 0, 0.15);\n",
              "      filter: drop-shadow(0px 1px 2px rgba(0, 0, 0, 0.3));\n",
              "      fill: #FFFFFF;\n",
              "    }\n",
              "  </style>\n",
              "\n",
              "      <script>\n",
              "        const buttonEl =\n",
              "          document.querySelector('#df-fea1ec71-c2d1-4098-8424-7234f3a4cf64 button.colab-df-convert');\n",
              "        buttonEl.style.display =\n",
              "          google.colab.kernel.accessAllowed ? 'block' : 'none';\n",
              "\n",
              "        async function convertToInteractive(key) {\n",
              "          const element = document.querySelector('#df-fea1ec71-c2d1-4098-8424-7234f3a4cf64');\n",
              "          const dataTable =\n",
              "            await google.colab.kernel.invokeFunction('convertToInteractive',\n",
              "                                                     [key], {});\n",
              "          if (!dataTable) return;\n",
              "\n",
              "          const docLinkHtml = 'Like what you see? Visit the ' +\n",
              "            '<a target=\"_blank\" href=https://colab.research.google.com/notebooks/data_table.ipynb>data table notebook</a>'\n",
              "            + ' to learn more about interactive tables.';\n",
              "          element.innerHTML = '';\n",
              "          dataTable['output_type'] = 'display_data';\n",
              "          await google.colab.output.renderOutput(dataTable, element);\n",
              "          const docLink = document.createElement('div');\n",
              "          docLink.innerHTML = docLinkHtml;\n",
              "          element.appendChild(docLink);\n",
              "        }\n",
              "      </script>\n",
              "    </div>\n",
              "  </div>\n",
              "  "
            ]
          },
          "metadata": {},
          "execution_count": 3
        }
      ]
    },
    {
      "cell_type": "markdown",
      "source": [
        "As we see on the code above, that the dataset consist of some attributes with code which detailed below:\n",
        "\n",
        "\n",
        "* sex: 1 for female and 2 for male.\n",
        "\n",
        "* age: of the patient.\n",
        "\n",
        "* classification: covid test findings. Values 1-3 mean that the patient was diagnosed with covid in different\n",
        "degrees. 4 or higher means that the patient is not a carrier of covid or that the test is inconclusive.\n",
        "\n",
        "* patient type: type of care the patient received in the unit. 1 for returned home and 2 for hospitalization.\n",
        "\n",
        "* pneumonia: whether the patient already have air sacs inflammation or not.\n",
        "\n",
        "* pregnancy: whether the patient is pregnant or not.\n",
        "\n",
        "* diabetes: whether the patient has diabetes or not.\n",
        "\n",
        "* copd: Indicates whether the patient has Chronic obstructive pulmonary disease or not.\n",
        "\n",
        "* asthma: whether the patient has asthma or not.\n",
        "\n",
        "* inmsupr: whether the patient is immunosuppressed or not.\n",
        "\n",
        "* hypertension: whether the patient has hypertension or not.\n",
        "\n",
        "* cardiovascular: whether the patient has heart or blood vessels related disease.\n",
        "\n",
        "* renal chronic: whether the patient has chronic renal disease or not.\n",
        "\n",
        "* other disease: whether the patient has other disease or not.\n",
        "\n",
        "* obesity: whether the patient is obese or not.\n",
        "\n",
        "* tobacco: whether the patient is a tobacco user.\n",
        "\n",
        "* usmr: Indicates whether the patient treated medical units of the first, second or third level.\n",
        "\n",
        "* medical unit: type of institution of the National Health System that provided the care.\n",
        "\n",
        "* intubed: whether the patient was connected to the ventilator.\n",
        "\n",
        "* icu: Indicates whether the patient had been admitted to an Intensive Care Unit.\n",
        "\n",
        "* date died: If the patient died indicate the date of death, and 9999-99-99 otherwise."
      ],
      "metadata": {
        "id": "q0OhEFL_OfSp"
      }
    },
    {
      "cell_type": "markdown",
      "source": [
        "**Data Cleaning**\n",
        "\n",
        "In this phase, we will analyze the data by using some visualization techniques. But, before doing the analysis, we need to check the dataset to make sure that there are no NULL data. The NULL data is marked with numbers 97, 98, and 99"
      ],
      "metadata": {
        "id": "l96MPuqhQnm7"
      }
    },
    {
      "cell_type": "code",
      "source": [
        "df.shape #Check dataset shape"
      ],
      "metadata": {
        "colab": {
          "base_uri": "https://localhost:8080/"
        },
        "id": "k-RxqnIyQfR8",
        "outputId": "e4c66b4d-8359-4811-868a-39d256e30fad"
      },
      "execution_count": null,
      "outputs": [
        {
          "output_type": "execute_result",
          "data": {
            "text/plain": [
              "(1048575, 21)"
            ]
          },
          "metadata": {},
          "execution_count": 4
        }
      ]
    },
    {
      "cell_type": "code",
      "source": [
        "df.info() #Check column"
      ],
      "metadata": {
        "colab": {
          "base_uri": "https://localhost:8080/"
        },
        "id": "EgyZnXXVW7Ga",
        "outputId": "d313acc3-038c-4e67-913a-1e2d2418c49d"
      },
      "execution_count": null,
      "outputs": [
        {
          "output_type": "stream",
          "name": "stdout",
          "text": [
            "<class 'pandas.core.frame.DataFrame'>\n",
            "RangeIndex: 1048575 entries, 0 to 1048574\n",
            "Data columns (total 21 columns):\n",
            " #   Column                Non-Null Count    Dtype \n",
            "---  ------                --------------    ----- \n",
            " 0   usmer                 1048575 non-null  int64 \n",
            " 1   medical_unit          1048575 non-null  int64 \n",
            " 2   sex                   1048575 non-null  int64 \n",
            " 3   patient_type          1048575 non-null  int64 \n",
            " 4   date_died             1048575 non-null  object\n",
            " 5   intubed               1048575 non-null  int64 \n",
            " 6   pneumonia             1048575 non-null  int64 \n",
            " 7   age                   1048575 non-null  int64 \n",
            " 8   pregnant              1048575 non-null  int64 \n",
            " 9   diabetes              1048575 non-null  int64 \n",
            " 10  copd                  1048575 non-null  int64 \n",
            " 11  asthma                1048575 non-null  int64 \n",
            " 12  inmsupr               1048575 non-null  int64 \n",
            " 13  hipertension          1048575 non-null  int64 \n",
            " 14  other_disease         1048575 non-null  int64 \n",
            " 15  cardiovascular        1048575 non-null  int64 \n",
            " 16  obesity               1048575 non-null  int64 \n",
            " 17  renal_chronic         1048575 non-null  int64 \n",
            " 18  tobacco               1048575 non-null  int64 \n",
            " 19  clasiffication_final  1048575 non-null  int64 \n",
            " 20  icu                   1048575 non-null  int64 \n",
            "dtypes: int64(20), object(1)\n",
            "memory usage: 168.0+ MB\n"
          ]
        }
      ]
    },
    {
      "cell_type": "code",
      "source": [
        "#Check missing value in each column (97,98,99)\n",
        "for col in df.columns:\n",
        "    print(col)\n",
        "    print(df.loc[df[col] == 97, col].count())\n",
        "    print(df.loc[df[col] == 98, col].count())\n",
        "    print(df.loc[df[col] == 99, col].count())\n",
        "    print()"
      ],
      "metadata": {
        "colab": {
          "base_uri": "https://localhost:8080/"
        },
        "id": "YSTAVCeKX4hN",
        "outputId": "fa0a42be-0d9b-4ba3-c528-f2dc75595c6a"
      },
      "execution_count": null,
      "outputs": [
        {
          "output_type": "stream",
          "name": "stdout",
          "text": [
            "usmer\n",
            "0\n",
            "0\n",
            "0\n",
            "\n",
            "medical_unit\n",
            "0\n",
            "0\n",
            "0\n",
            "\n",
            "sex\n",
            "0\n",
            "0\n",
            "0\n",
            "\n",
            "patient_type\n",
            "0\n",
            "0\n",
            "0\n",
            "\n",
            "date_died\n",
            "0\n",
            "0\n",
            "0\n",
            "\n",
            "intubed\n",
            "848544\n",
            "0\n",
            "7325\n",
            "\n",
            "pneumonia\n",
            "0\n",
            "0\n",
            "16003\n",
            "\n",
            "age\n",
            "135\n",
            "124\n",
            "86\n",
            "\n",
            "pregnant\n",
            "523511\n",
            "3754\n",
            "0\n",
            "\n",
            "diabetes\n",
            "0\n",
            "3338\n",
            "0\n",
            "\n",
            "copd\n",
            "0\n",
            "3003\n",
            "0\n",
            "\n",
            "asthma\n",
            "0\n",
            "2979\n",
            "0\n",
            "\n",
            "inmsupr\n",
            "0\n",
            "3404\n",
            "0\n",
            "\n",
            "hipertension\n",
            "0\n",
            "3104\n",
            "0\n",
            "\n",
            "other_disease\n",
            "0\n",
            "5045\n",
            "0\n",
            "\n",
            "cardiovascular\n",
            "0\n",
            "3076\n",
            "0\n",
            "\n",
            "obesity\n",
            "0\n",
            "3032\n",
            "0\n",
            "\n",
            "renal_chronic\n",
            "0\n",
            "3006\n",
            "0\n",
            "\n",
            "tobacco\n",
            "0\n",
            "3220\n",
            "0\n",
            "\n",
            "clasiffication_final\n",
            "0\n",
            "0\n",
            "0\n",
            "\n",
            "icu\n",
            "848544\n",
            "0\n",
            "7488\n",
            "\n"
          ]
        }
      ]
    },
    {
      "cell_type": "code",
      "source": [
        "#Parsing missing value of the \"pregnant\" column\n",
        "df.groupby(['pregnant', 'sex'])['sex'].count()"
      ],
      "metadata": {
        "colab": {
          "base_uri": "https://localhost:8080/"
        },
        "id": "LFuAYERhY4-w",
        "outputId": "cad49db2-7f2f-4a20-c9c9-1a4dc436c326"
      },
      "execution_count": null,
      "outputs": [
        {
          "output_type": "execute_result",
          "data": {
            "text/plain": [
              "pregnant  sex\n",
              "1         1        8131\n",
              "2         1      513179\n",
              "97        2      523511\n",
              "98        1        3754\n",
              "Name: sex, dtype: int64"
            ]
          },
          "metadata": {},
          "execution_count": 7
        }
      ]
    },
    {
      "cell_type": "markdown",
      "source": [
        "As we could see, the missing value are relative to men (2) which does make sense since men can't be pregnant. Therefore we could replace those value to \"2\" which means the patient are not pregnant."
      ],
      "metadata": {
        "id": "2BrA4fNzZKXC"
      }
    },
    {
      "cell_type": "code",
      "source": [
        "#Change value 97 into 2 in \"pregnant\" column\n",
        "df.pregnant = df.pregnant.replace(97, 2)\n",
        "df.pregnant.value_counts()"
      ],
      "metadata": {
        "colab": {
          "base_uri": "https://localhost:8080/"
        },
        "id": "QIfth2ehZoTH",
        "outputId": "25130ad6-afc0-4ea2-c0b5-d63f919b6eba"
      },
      "execution_count": null,
      "outputs": [
        {
          "output_type": "execute_result",
          "data": {
            "text/plain": [
              "2     1036690\n",
              "1        8131\n",
              "98       3754\n",
              "Name: pregnant, dtype: int64"
            ]
          },
          "metadata": {},
          "execution_count": 8
        }
      ]
    },
    {
      "cell_type": "code",
      "source": [
        "#Parsing missing value of the \"intubed\" & \"icu\" column\n",
        "df.groupby(['intubed', 'patient_type'])['patient_type'].count()"
      ],
      "metadata": {
        "colab": {
          "base_uri": "https://localhost:8080/"
        },
        "id": "wqgEeGjwYGeX",
        "outputId": "d3961343-fb9d-4468-f7ef-9fafc31fcfcb"
      },
      "execution_count": null,
      "outputs": [
        {
          "output_type": "execute_result",
          "data": {
            "text/plain": [
              "intubed  patient_type\n",
              "1        2                33656\n",
              "2        2               159050\n",
              "97       1               848544\n",
              "99       2                 7325\n",
              "Name: patient_type, dtype: int64"
            ]
          },
          "metadata": {},
          "execution_count": 9
        }
      ]
    },
    {
      "cell_type": "code",
      "source": [
        "df.groupby(['icu', 'patient_type'])['patient_type'].count()"
      ],
      "metadata": {
        "colab": {
          "base_uri": "https://localhost:8080/"
        },
        "id": "G0Q0ax4saJAy",
        "outputId": "d43384fe-d9a9-4f82-d9b6-8eff9a6874d9"
      },
      "execution_count": null,
      "outputs": [
        {
          "output_type": "execute_result",
          "data": {
            "text/plain": [
              "icu  patient_type\n",
              "1    2                16858\n",
              "2    2               175685\n",
              "97   1               848544\n",
              "99   2                 7488\n",
              "Name: patient_type, dtype: int64"
            ]
          },
          "metadata": {},
          "execution_count": 10
        }
      ]
    },
    {
      "cell_type": "markdown",
      "source": [
        "The \"intubed\" & \"icu\" columns have a relation with the \"patient_type column\" since it also determined the \"medical_unit\" attribute of the patient. Values of 97 represent the patients that have returned home.\n",
        "\n",
        "Because there is big number of missing values in those columns, we could drop it."
      ],
      "metadata": {
        "id": "XkzbHld6Z42r"
      }
    },
    {
      "cell_type": "code",
      "source": [
        "#Drop the missing value\n",
        "df.drop(['intubed', 'icu'], axis=1, inplace=True)"
      ],
      "metadata": {
        "id": "dqnxWUYGY7WI"
      },
      "execution_count": null,
      "outputs": []
    },
    {
      "cell_type": "code",
      "source": [
        "#Preview the first row of dataset\n",
        "df.head(1)"
      ],
      "metadata": {
        "colab": {
          "base_uri": "https://localhost:8080/",
          "height": 145
        },
        "id": "6pU3oMiTa607",
        "outputId": "6d52dee0-cfc1-4329-af4d-da667e21a530"
      },
      "execution_count": null,
      "outputs": [
        {
          "output_type": "execute_result",
          "data": {
            "text/plain": [
              "   usmer  medical_unit  sex  patient_type   date_died  pneumonia  age  \\\n",
              "0      2             1    1             1  03/05/2020          1   65   \n",
              "\n",
              "   pregnant  diabetes  copd  asthma  inmsupr  hipertension  other_disease  \\\n",
              "0         2         2     2       2        2             1              2   \n",
              "\n",
              "   cardiovascular  obesity  renal_chronic  tobacco  clasiffication_final  \n",
              "0               2        2              2        2                     3  "
            ],
            "text/html": [
              "\n",
              "  <div id=\"df-ca2297ea-d31e-4738-8560-3c96302400e3\">\n",
              "    <div class=\"colab-df-container\">\n",
              "      <div>\n",
              "<style scoped>\n",
              "    .dataframe tbody tr th:only-of-type {\n",
              "        vertical-align: middle;\n",
              "    }\n",
              "\n",
              "    .dataframe tbody tr th {\n",
              "        vertical-align: top;\n",
              "    }\n",
              "\n",
              "    .dataframe thead th {\n",
              "        text-align: right;\n",
              "    }\n",
              "</style>\n",
              "<table border=\"1\" class=\"dataframe\">\n",
              "  <thead>\n",
              "    <tr style=\"text-align: right;\">\n",
              "      <th></th>\n",
              "      <th>usmer</th>\n",
              "      <th>medical_unit</th>\n",
              "      <th>sex</th>\n",
              "      <th>patient_type</th>\n",
              "      <th>date_died</th>\n",
              "      <th>pneumonia</th>\n",
              "      <th>age</th>\n",
              "      <th>pregnant</th>\n",
              "      <th>diabetes</th>\n",
              "      <th>copd</th>\n",
              "      <th>asthma</th>\n",
              "      <th>inmsupr</th>\n",
              "      <th>hipertension</th>\n",
              "      <th>other_disease</th>\n",
              "      <th>cardiovascular</th>\n",
              "      <th>obesity</th>\n",
              "      <th>renal_chronic</th>\n",
              "      <th>tobacco</th>\n",
              "      <th>clasiffication_final</th>\n",
              "    </tr>\n",
              "  </thead>\n",
              "  <tbody>\n",
              "    <tr>\n",
              "      <th>0</th>\n",
              "      <td>2</td>\n",
              "      <td>1</td>\n",
              "      <td>1</td>\n",
              "      <td>1</td>\n",
              "      <td>03/05/2020</td>\n",
              "      <td>1</td>\n",
              "      <td>65</td>\n",
              "      <td>2</td>\n",
              "      <td>2</td>\n",
              "      <td>2</td>\n",
              "      <td>2</td>\n",
              "      <td>2</td>\n",
              "      <td>1</td>\n",
              "      <td>2</td>\n",
              "      <td>2</td>\n",
              "      <td>2</td>\n",
              "      <td>2</td>\n",
              "      <td>2</td>\n",
              "      <td>3</td>\n",
              "    </tr>\n",
              "  </tbody>\n",
              "</table>\n",
              "</div>\n",
              "      <button class=\"colab-df-convert\" onclick=\"convertToInteractive('df-ca2297ea-d31e-4738-8560-3c96302400e3')\"\n",
              "              title=\"Convert this dataframe to an interactive table.\"\n",
              "              style=\"display:none;\">\n",
              "        \n",
              "  <svg xmlns=\"http://www.w3.org/2000/svg\" height=\"24px\"viewBox=\"0 0 24 24\"\n",
              "       width=\"24px\">\n",
              "    <path d=\"M0 0h24v24H0V0z\" fill=\"none\"/>\n",
              "    <path d=\"M18.56 5.44l.94 2.06.94-2.06 2.06-.94-2.06-.94-.94-2.06-.94 2.06-2.06.94zm-11 1L8.5 8.5l.94-2.06 2.06-.94-2.06-.94L8.5 2.5l-.94 2.06-2.06.94zm10 10l.94 2.06.94-2.06 2.06-.94-2.06-.94-.94-2.06-.94 2.06-2.06.94z\"/><path d=\"M17.41 7.96l-1.37-1.37c-.4-.4-.92-.59-1.43-.59-.52 0-1.04.2-1.43.59L10.3 9.45l-7.72 7.72c-.78.78-.78 2.05 0 2.83L4 21.41c.39.39.9.59 1.41.59.51 0 1.02-.2 1.41-.59l7.78-7.78 2.81-2.81c.8-.78.8-2.07 0-2.86zM5.41 20L4 18.59l7.72-7.72 1.47 1.35L5.41 20z\"/>\n",
              "  </svg>\n",
              "      </button>\n",
              "      \n",
              "  <style>\n",
              "    .colab-df-container {\n",
              "      display:flex;\n",
              "      flex-wrap:wrap;\n",
              "      gap: 12px;\n",
              "    }\n",
              "\n",
              "    .colab-df-convert {\n",
              "      background-color: #E8F0FE;\n",
              "      border: none;\n",
              "      border-radius: 50%;\n",
              "      cursor: pointer;\n",
              "      display: none;\n",
              "      fill: #1967D2;\n",
              "      height: 32px;\n",
              "      padding: 0 0 0 0;\n",
              "      width: 32px;\n",
              "    }\n",
              "\n",
              "    .colab-df-convert:hover {\n",
              "      background-color: #E2EBFA;\n",
              "      box-shadow: 0px 1px 2px rgba(60, 64, 67, 0.3), 0px 1px 3px 1px rgba(60, 64, 67, 0.15);\n",
              "      fill: #174EA6;\n",
              "    }\n",
              "\n",
              "    [theme=dark] .colab-df-convert {\n",
              "      background-color: #3B4455;\n",
              "      fill: #D2E3FC;\n",
              "    }\n",
              "\n",
              "    [theme=dark] .colab-df-convert:hover {\n",
              "      background-color: #434B5C;\n",
              "      box-shadow: 0px 1px 3px 1px rgba(0, 0, 0, 0.15);\n",
              "      filter: drop-shadow(0px 1px 2px rgba(0, 0, 0, 0.3));\n",
              "      fill: #FFFFFF;\n",
              "    }\n",
              "  </style>\n",
              "\n",
              "      <script>\n",
              "        const buttonEl =\n",
              "          document.querySelector('#df-ca2297ea-d31e-4738-8560-3c96302400e3 button.colab-df-convert');\n",
              "        buttonEl.style.display =\n",
              "          google.colab.kernel.accessAllowed ? 'block' : 'none';\n",
              "\n",
              "        async function convertToInteractive(key) {\n",
              "          const element = document.querySelector('#df-ca2297ea-d31e-4738-8560-3c96302400e3');\n",
              "          const dataTable =\n",
              "            await google.colab.kernel.invokeFunction('convertToInteractive',\n",
              "                                                     [key], {});\n",
              "          if (!dataTable) return;\n",
              "\n",
              "          const docLinkHtml = 'Like what you see? Visit the ' +\n",
              "            '<a target=\"_blank\" href=https://colab.research.google.com/notebooks/data_table.ipynb>data table notebook</a>'\n",
              "            + ' to learn more about interactive tables.';\n",
              "          element.innerHTML = '';\n",
              "          dataTable['output_type'] = 'display_data';\n",
              "          await google.colab.output.renderOutput(dataTable, element);\n",
              "          const docLink = document.createElement('div');\n",
              "          docLink.innerHTML = docLinkHtml;\n",
              "          element.appendChild(docLink);\n",
              "        }\n",
              "      </script>\n",
              "    </div>\n",
              "  </div>\n",
              "  "
            ]
          },
          "metadata": {},
          "execution_count": 12
        }
      ]
    },
    {
      "cell_type": "markdown",
      "source": [
        "We could also drop the row that has a missing value in the disease columns therefore our analysis will be not biased."
      ],
      "metadata": {
        "id": "-YinOR2pbLdc"
      }
    },
    {
      "cell_type": "code",
      "source": [
        "#Drop the missing value on other disease columns\n",
        "df.drop(df.index[df.pneumonia == 99], axis=0, inplace=True)\n",
        "df.drop(df.index[df.pregnant == 98], axis=0, inplace=True)\n",
        "df.drop(df.index[df.copd == 98], axis=0, inplace=True)\n",
        "df.drop(df.index[df.diabetes == 98], axis=0, inplace=True)\n",
        "df.drop(df.index[df.asthma == 98], axis=0, inplace=True)\n",
        "df.drop(df.index[df.inmsupr == 98], axis=0, inplace=True)\n",
        "df.drop(df.index[df.other_disease == 98], axis=0, inplace=True)\n",
        "df.drop(df.index[df.cardiovascular == 98], axis=0, inplace=True)\n",
        "df.drop(df.index[df.obesity == 98], axis=0, inplace=True)\n",
        "df.drop(df.index[df.renal_chronic == 98], axis=0, inplace=True)\n",
        "df.drop(df.index[df.tobacco == 98], axis=0, inplace=True)"
      ],
      "metadata": {
        "id": "f8OlnAJLPRu4"
      },
      "execution_count": null,
      "outputs": []
    },
    {
      "cell_type": "code",
      "source": [
        "#Preview the missing value\n",
        "for col in df.columns:\n",
        "    print(col)\n",
        "    print(df.loc[df[col] == 97, col].count())\n",
        "    print(df.loc[df[col] == 98, col].count())\n",
        "    print(df.loc[df[col] == 99, col].count())\n",
        "    print()"
      ],
      "metadata": {
        "colab": {
          "base_uri": "https://localhost:8080/"
        },
        "id": "2iB-tXIubfYu",
        "outputId": "234a311f-93c9-48cb-d972-77aaa82540d6"
      },
      "execution_count": null,
      "outputs": [
        {
          "output_type": "stream",
          "name": "stdout",
          "text": [
            "usmer\n",
            "0\n",
            "0\n",
            "0\n",
            "\n",
            "medical_unit\n",
            "0\n",
            "0\n",
            "0\n",
            "\n",
            "sex\n",
            "0\n",
            "0\n",
            "0\n",
            "\n",
            "patient_type\n",
            "0\n",
            "0\n",
            "0\n",
            "\n",
            "date_died\n",
            "0\n",
            "0\n",
            "0\n",
            "\n",
            "pneumonia\n",
            "0\n",
            "0\n",
            "0\n",
            "\n",
            "age\n",
            "128\n",
            "115\n",
            "79\n",
            "\n",
            "pregnant\n",
            "0\n",
            "0\n",
            "0\n",
            "\n",
            "diabetes\n",
            "0\n",
            "0\n",
            "0\n",
            "\n",
            "copd\n",
            "0\n",
            "0\n",
            "0\n",
            "\n",
            "asthma\n",
            "0\n",
            "0\n",
            "0\n",
            "\n",
            "inmsupr\n",
            "0\n",
            "0\n",
            "0\n",
            "\n",
            "hipertension\n",
            "0\n",
            "178\n",
            "0\n",
            "\n",
            "other_disease\n",
            "0\n",
            "0\n",
            "0\n",
            "\n",
            "cardiovascular\n",
            "0\n",
            "0\n",
            "0\n",
            "\n",
            "obesity\n",
            "0\n",
            "0\n",
            "0\n",
            "\n",
            "renal_chronic\n",
            "0\n",
            "0\n",
            "0\n",
            "\n",
            "tobacco\n",
            "0\n",
            "0\n",
            "0\n",
            "\n",
            "clasiffication_final\n",
            "0\n",
            "0\n",
            "0\n",
            "\n"
          ]
        }
      ]
    },
    {
      "cell_type": "markdown",
      "source": [
        "As we could see, there is no more missing value (97, 98, 99) in this dataset. The counted numbers 97, 98, and 99 are the parameter of age and hypertension which is needed to be counted.\n",
        "\n",
        "After that, we will convert the death date into a new column. If the death date is 9999-99-99 means that the patient is not dead yet."
      ],
      "metadata": {
        "id": "_cL_Z6YzcBzD"
      }
    },
    {
      "cell_type": "code",
      "source": [
        "#Function for divide the death date into 2 category\n",
        "def died_col(row):\n",
        "    if row == '9999-99-99':\n",
        "        return 2 #Means still life\n",
        "    else:\n",
        "        return 1 #Means already dead"
      ],
      "metadata": {
        "id": "R1ccNZFXd8Om"
      },
      "execution_count": null,
      "outputs": []
    },
    {
      "cell_type": "code",
      "source": [
        "#Apply died_col function\n",
        "df['died'] = df.date_died.apply(died_col)"
      ],
      "metadata": {
        "id": "nD9XxEfceNsP"
      },
      "execution_count": null,
      "outputs": []
    },
    {
      "cell_type": "code",
      "source": [
        "#Delete the date_died column\n",
        "df.drop('date_died', axis=1, inplace=True)"
      ],
      "metadata": {
        "id": "m5Pq6031eU9G"
      },
      "execution_count": null,
      "outputs": []
    },
    {
      "cell_type": "code",
      "source": [
        "#Preview\n",
        "df.head(2)"
      ],
      "metadata": {
        "colab": {
          "base_uri": "https://localhost:8080/",
          "height": 176
        },
        "id": "t8cBhDfveeLj",
        "outputId": "82c7aaaf-b56b-46de-819f-9f99a47fda93"
      },
      "execution_count": null,
      "outputs": [
        {
          "output_type": "execute_result",
          "data": {
            "text/plain": [
              "   usmer  medical_unit  sex  patient_type  pneumonia  age  pregnant  diabetes  \\\n",
              "0      2             1    1             1          1   65         2         2   \n",
              "1      2             1    2             1          1   72         2         2   \n",
              "\n",
              "   copd  asthma  inmsupr  hipertension  other_disease  cardiovascular  \\\n",
              "0     2       2        2             1              2               2   \n",
              "1     2       2        2             1              2               2   \n",
              "\n",
              "   obesity  renal_chronic  tobacco  clasiffication_final  died  \n",
              "0        2              2        2                     3     1  \n",
              "1        1              1        2                     5     1  "
            ],
            "text/html": [
              "\n",
              "  <div id=\"df-1244188a-55ac-4d99-ae1b-da264c089780\">\n",
              "    <div class=\"colab-df-container\">\n",
              "      <div>\n",
              "<style scoped>\n",
              "    .dataframe tbody tr th:only-of-type {\n",
              "        vertical-align: middle;\n",
              "    }\n",
              "\n",
              "    .dataframe tbody tr th {\n",
              "        vertical-align: top;\n",
              "    }\n",
              "\n",
              "    .dataframe thead th {\n",
              "        text-align: right;\n",
              "    }\n",
              "</style>\n",
              "<table border=\"1\" class=\"dataframe\">\n",
              "  <thead>\n",
              "    <tr style=\"text-align: right;\">\n",
              "      <th></th>\n",
              "      <th>usmer</th>\n",
              "      <th>medical_unit</th>\n",
              "      <th>sex</th>\n",
              "      <th>patient_type</th>\n",
              "      <th>pneumonia</th>\n",
              "      <th>age</th>\n",
              "      <th>pregnant</th>\n",
              "      <th>diabetes</th>\n",
              "      <th>copd</th>\n",
              "      <th>asthma</th>\n",
              "      <th>inmsupr</th>\n",
              "      <th>hipertension</th>\n",
              "      <th>other_disease</th>\n",
              "      <th>cardiovascular</th>\n",
              "      <th>obesity</th>\n",
              "      <th>renal_chronic</th>\n",
              "      <th>tobacco</th>\n",
              "      <th>clasiffication_final</th>\n",
              "      <th>died</th>\n",
              "    </tr>\n",
              "  </thead>\n",
              "  <tbody>\n",
              "    <tr>\n",
              "      <th>0</th>\n",
              "      <td>2</td>\n",
              "      <td>1</td>\n",
              "      <td>1</td>\n",
              "      <td>1</td>\n",
              "      <td>1</td>\n",
              "      <td>65</td>\n",
              "      <td>2</td>\n",
              "      <td>2</td>\n",
              "      <td>2</td>\n",
              "      <td>2</td>\n",
              "      <td>2</td>\n",
              "      <td>1</td>\n",
              "      <td>2</td>\n",
              "      <td>2</td>\n",
              "      <td>2</td>\n",
              "      <td>2</td>\n",
              "      <td>2</td>\n",
              "      <td>3</td>\n",
              "      <td>1</td>\n",
              "    </tr>\n",
              "    <tr>\n",
              "      <th>1</th>\n",
              "      <td>2</td>\n",
              "      <td>1</td>\n",
              "      <td>2</td>\n",
              "      <td>1</td>\n",
              "      <td>1</td>\n",
              "      <td>72</td>\n",
              "      <td>2</td>\n",
              "      <td>2</td>\n",
              "      <td>2</td>\n",
              "      <td>2</td>\n",
              "      <td>2</td>\n",
              "      <td>1</td>\n",
              "      <td>2</td>\n",
              "      <td>2</td>\n",
              "      <td>1</td>\n",
              "      <td>1</td>\n",
              "      <td>2</td>\n",
              "      <td>5</td>\n",
              "      <td>1</td>\n",
              "    </tr>\n",
              "  </tbody>\n",
              "</table>\n",
              "</div>\n",
              "      <button class=\"colab-df-convert\" onclick=\"convertToInteractive('df-1244188a-55ac-4d99-ae1b-da264c089780')\"\n",
              "              title=\"Convert this dataframe to an interactive table.\"\n",
              "              style=\"display:none;\">\n",
              "        \n",
              "  <svg xmlns=\"http://www.w3.org/2000/svg\" height=\"24px\"viewBox=\"0 0 24 24\"\n",
              "       width=\"24px\">\n",
              "    <path d=\"M0 0h24v24H0V0z\" fill=\"none\"/>\n",
              "    <path d=\"M18.56 5.44l.94 2.06.94-2.06 2.06-.94-2.06-.94-.94-2.06-.94 2.06-2.06.94zm-11 1L8.5 8.5l.94-2.06 2.06-.94-2.06-.94L8.5 2.5l-.94 2.06-2.06.94zm10 10l.94 2.06.94-2.06 2.06-.94-2.06-.94-.94-2.06-.94 2.06-2.06.94z\"/><path d=\"M17.41 7.96l-1.37-1.37c-.4-.4-.92-.59-1.43-.59-.52 0-1.04.2-1.43.59L10.3 9.45l-7.72 7.72c-.78.78-.78 2.05 0 2.83L4 21.41c.39.39.9.59 1.41.59.51 0 1.02-.2 1.41-.59l7.78-7.78 2.81-2.81c.8-.78.8-2.07 0-2.86zM5.41 20L4 18.59l7.72-7.72 1.47 1.35L5.41 20z\"/>\n",
              "  </svg>\n",
              "      </button>\n",
              "      \n",
              "  <style>\n",
              "    .colab-df-container {\n",
              "      display:flex;\n",
              "      flex-wrap:wrap;\n",
              "      gap: 12px;\n",
              "    }\n",
              "\n",
              "    .colab-df-convert {\n",
              "      background-color: #E8F0FE;\n",
              "      border: none;\n",
              "      border-radius: 50%;\n",
              "      cursor: pointer;\n",
              "      display: none;\n",
              "      fill: #1967D2;\n",
              "      height: 32px;\n",
              "      padding: 0 0 0 0;\n",
              "      width: 32px;\n",
              "    }\n",
              "\n",
              "    .colab-df-convert:hover {\n",
              "      background-color: #E2EBFA;\n",
              "      box-shadow: 0px 1px 2px rgba(60, 64, 67, 0.3), 0px 1px 3px 1px rgba(60, 64, 67, 0.15);\n",
              "      fill: #174EA6;\n",
              "    }\n",
              "\n",
              "    [theme=dark] .colab-df-convert {\n",
              "      background-color: #3B4455;\n",
              "      fill: #D2E3FC;\n",
              "    }\n",
              "\n",
              "    [theme=dark] .colab-df-convert:hover {\n",
              "      background-color: #434B5C;\n",
              "      box-shadow: 0px 1px 3px 1px rgba(0, 0, 0, 0.15);\n",
              "      filter: drop-shadow(0px 1px 2px rgba(0, 0, 0, 0.3));\n",
              "      fill: #FFFFFF;\n",
              "    }\n",
              "  </style>\n",
              "\n",
              "      <script>\n",
              "        const buttonEl =\n",
              "          document.querySelector('#df-1244188a-55ac-4d99-ae1b-da264c089780 button.colab-df-convert');\n",
              "        buttonEl.style.display =\n",
              "          google.colab.kernel.accessAllowed ? 'block' : 'none';\n",
              "\n",
              "        async function convertToInteractive(key) {\n",
              "          const element = document.querySelector('#df-1244188a-55ac-4d99-ae1b-da264c089780');\n",
              "          const dataTable =\n",
              "            await google.colab.kernel.invokeFunction('convertToInteractive',\n",
              "                                                     [key], {});\n",
              "          if (!dataTable) return;\n",
              "\n",
              "          const docLinkHtml = 'Like what you see? Visit the ' +\n",
              "            '<a target=\"_blank\" href=https://colab.research.google.com/notebooks/data_table.ipynb>data table notebook</a>'\n",
              "            + ' to learn more about interactive tables.';\n",
              "          element.innerHTML = '';\n",
              "          dataTable['output_type'] = 'display_data';\n",
              "          await google.colab.output.renderOutput(dataTable, element);\n",
              "          const docLink = document.createElement('div');\n",
              "          docLink.innerHTML = docLinkHtml;\n",
              "          element.appendChild(docLink);\n",
              "        }\n",
              "      </script>\n",
              "    </div>\n",
              "  </div>\n",
              "  "
            ]
          },
          "metadata": {},
          "execution_count": 18
        }
      ]
    },
    {
      "cell_type": "markdown",
      "source": [
        "**Data Visualization**\n",
        "\n",
        "Here we will make a graph, diagram, or plot to analyze the dataset that was already cleaned. The first thing we will analyze is the death date itself."
      ],
      "metadata": {
        "id": "NsxUujQ4crDJ"
      }
    },
    {
      "cell_type": "code",
      "source": [
        "#Analyzing the death distribution\n",
        "fig, ax = plt.subplots(figsize=(8, 8))\n",
        "ax.pie(\n",
        "    df.died.value_counts().values, labels=['Not Die', 'Die'], autopct='%1.1f%%',\n",
        "    startangle=0, textprops={'fontsize': 20}, wedgeprops={'edgecolor': '#fff'}, colors=['#ffcc00', '#73ffd3']\n",
        "    )\n",
        "\n",
        "ax.set_title('Death Distribution', fontsize=20, color='black', fontweight=\"bold\")\n",
        "plt.show()"
      ],
      "metadata": {
        "colab": {
          "base_uri": "https://localhost:8080/",
          "height": 487
        },
        "id": "_wlajmJzcccn",
        "outputId": "f73d7f7a-50f6-441e-f635-44080227333a"
      },
      "execution_count": null,
      "outputs": [
        {
          "output_type": "display_data",
          "data": {
            "text/plain": [
              "<Figure size 576x576 with 1 Axes>"
            ],
            "image/png": "[encoded data removed]"
          },
          "metadata": {}
        }
      ]
    },
    {
      "cell_type": "markdown",
      "source": [
        "Based in the pie diagram above, we could know that 7.3% of people who got Covid-19 could die."
      ],
      "metadata": {
        "id": "fX6-mLd4fyT3"
      }
    },
    {
      "cell_type": "code",
      "source": [
        "#Analyzing the death age\n",
        "plt.figure(figsize=(6, 7))\n",
        "sns.boxplot(data=df, x='died', y='age', palette=sns.color_palette(['#ffcc00', '#73ffd3']))\n",
        "plt.title('Death Age', color='black', fontsize=20, fontweight=\"bold\")\n",
        "plt.xlabel(None)\n",
        "plt.ylabel('Age', fontsize=14)\n",
        "plt.tick_params(bottom=False)\n",
        "plt.xticks([0, 1], ['Die', 'Not die'], fontsize=13);"
      ],
      "metadata": {
        "colab": {
          "base_uri": "https://localhost:8080/",
          "height": 452
        },
        "id": "glZo9ADkfSug",
        "outputId": "737d0f40-4870-49ba-cfc5-33f19ded4f2c"
      },
      "execution_count": null,
      "outputs": [
        {
          "output_type": "display_data",
          "data": {
            "text/plain": [
              "<Figure size 432x504 with 1 Axes>"
            ],
            "image/png": "[encoded data removed]"
          },
          "metadata": {
            "needs_background": "light"
          }
        }
      ]
    },
    {
      "cell_type": "markdown",
      "source": [
        "Based on the box plot diagram, the person who die because of covid mostly are older people (age around 60 years old)"
      ],
      "metadata": {
        "id": "IR1I0WlmgB5Q"
      }
    },
    {
      "cell_type": "code",
      "source": [
        "#Analyzing the hospitalized patient\n",
        "p_type = sns.histplot(data = df, x='age', hue = 'patient_type') \n",
        "plt.legend(title='Hospitalization', loc='upper right', labels=['Yes', 'No'])\n",
        "plt.show(p_type)"
      ],
      "metadata": {
        "colab": {
          "base_uri": "https://localhost:8080/",
          "height": 279
        },
        "id": "fgiFgePphCHb",
        "outputId": "09420e95-230f-493e-ec3b-856da9c81f96"
      },
      "execution_count": null,
      "outputs": [
        {
          "output_type": "display_data",
          "data": {
            "text/plain": [
              "<Figure size 432x288 with 1 Axes>"
            ],
            "image/png": "[encoded data removed]"
          },
          "metadata": {
            "needs_background": "light"
          }
        }
      ]
    },
    {
      "cell_type": "markdown",
      "source": [
        "The data show that although older people are risked to be hospitalized for Covid-19, there is also a high possibility that infants with age close to 0 years old could be hospitalized because of Covid-19"
      ],
      "metadata": {
        "id": "Wh5gEDhzhIMK"
      }
    },
    {
      "cell_type": "code",
      "source": [
        "#Analyzing correlation between Covid-19 and patient gender\n",
        "plt.figure(figsize=(8, 5))\n",
        "sns.countplot(data=df, x='sex', hue='died', palette=sns.color_palette(['#ffcc00', '#73ffd3']))\n",
        "plt.title('Death by Gendre', fontsize=20, color='black', fontweight=\"bold\")\n",
        "plt.ylabel('Count', fontsize=12)\n",
        "plt.xlabel('Genre', fontsize=12)\n",
        "plt.tick_params(bottom=False)\n",
        "plt.xticks([0, 1], ['Female', 'Male'], fontsize=13);"
      ],
      "metadata": {
        "colab": {
          "base_uri": "https://localhost:8080/",
          "height": 361
        },
        "id": "7go9NTYvhCNx",
        "outputId": "fc954ebe-9cb0-48b3-e842-36049942e79f"
      },
      "execution_count": null,
      "outputs": [
        {
          "output_type": "display_data",
          "data": {
            "text/plain": [
              "<Figure size 576x360 with 1 Axes>"
            ],
            "image/png": "[encoded data removed]"
          },
          "metadata": {
            "needs_background": "light"
          }
        }
      ]
    },
    {
      "cell_type": "markdown",
      "source": [
        "**NB:** *1 = Died | 2 = Not Died*\n",
        "The diagram above shown that there are more Male patient that died than the Female patient"
      ],
      "metadata": {
        "id": "SBZ4DnsfiEe0"
      }
    },
    {
      "cell_type": "markdown",
      "source": [
        "**Conclusion**\n",
        "\n",
        "\n",
        "1.   Although it is easy for someone to be infected by Covid-19, the death rate is low. This is shown that there is only 7.3% of death cases caused by Covid-19.\n",
        "2.   Most of the death cases caused by Covid-19 is happens in older people with age close to 60 years old. This could be happening because of the low immune system that the older generation has compared to the younger generation\n",
        "3.   Besides the older generation, infants with age close to 0 years old also have a high death rate caused by Covid-19. This could be happening because the immune system hasn't grown yet in the infant's body.\n",
        "4.   The dataset has more data about the female patient than the male patient. But, the death rate of the male patient is higher. The institution needs to analyze more about male patient habits, since, there could be habits that make the Covid-19 death rate to be higher in them."
      ],
      "metadata": {
        "id": "3g59uxVZjEk6"
      }
    },
    {
      "cell_type": "markdown",
      "source": [
        "**Data Preprocessing**\n",
        "\n",
        "In this phase, we will use the Decision Tree Classifier & Confussion Matrix to if a person will be died because of Covid-19."
      ],
      "metadata": {
        "id": "ywvzSRPFq1wj"
      }
    },
    {
      "cell_type": "code",
      "source": [
        "#Importing module for machine learning\n",
        "from sklearn.model_selection import train_test_split\n",
        "from sklearn.tree import DecisionTreeClassifier\n",
        "from sklearn.metrics import confusion_matrix, accuracy_score, precision_score, recall_score"
      ],
      "metadata": {
        "id": "tEmRkatiuTyC"
      },
      "execution_count": null,
      "outputs": []
    },
    {
      "cell_type": "code",
      "source": [
        "#Split the training and test dataset\n",
        "X_train, X_test, y_train, y_test = train_test_split(df.drop('died', axis=1), df.died, test_size=0.2, random_state=42)"
      ],
      "metadata": {
        "id": "xbGa_wShufAq"
      },
      "execution_count": null,
      "outputs": []
    },
    {
      "cell_type": "code",
      "source": [
        "x = X_train[['patient_type', 'pneumonia', 'diabetes', 'age']]\n",
        "y = y_train\n",
        "\n",
        "#Decision Tree Classifier\n",
        "treeClf = DecisionTreeClassifier().fit(x, y)\n",
        "treeClf.score(x, y)"
      ],
      "metadata": {
        "colab": {
          "base_uri": "https://localhost:8080/"
        },
        "id": "GdkIcXyFume7",
        "outputId": "32abbe9d-f6fe-46bf-c122-79af4383e200"
      },
      "execution_count": null,
      "outputs": [
        {
          "output_type": "execute_result",
          "data": {
            "text/plain": [
              "0.9331791655864325"
            ]
          },
          "metadata": {},
          "execution_count": 25
        }
      ]
    },
    {
      "cell_type": "code",
      "source": [
        "#Prediction using decision tree\n",
        "pred_clf = treeClf.predict(X_test[['patient_type', 'pneumonia', 'diabetes', 'age']])"
      ],
      "metadata": {
        "id": "ufrFq9cyuti8"
      },
      "execution_count": null,
      "outputs": []
    },
    {
      "cell_type": "code",
      "source": [
        "#Confussion Matrix Array\n",
        "confusion_matrix(y_test, pred_clf)"
      ],
      "metadata": {
        "colab": {
          "base_uri": "https://localhost:8080/"
        },
        "id": "WxG_Wnn6vC7J",
        "outputId": "2a139a82-fb3b-43dc-e4db-a5954d04ef4e"
      },
      "execution_count": null,
      "outputs": [
        {
          "output_type": "execute_result",
          "data": {
            "text/plain": [
              "array([[  5653,   9058],\n",
              "       [  4380, 185340]])"
            ]
          },
          "metadata": {},
          "execution_count": 27
        }
      ]
    },
    {
      "cell_type": "code",
      "source": [
        "#Confussion Matrix Accuracy Score\n",
        "accuracy_score(y_test, pred_clf)"
      ],
      "metadata": {
        "colab": {
          "base_uri": "https://localhost:8080/"
        },
        "id": "og3Zo4TWvSdx",
        "outputId": "26825ffe-d7e5-482b-e1fd-29035ad62322"
      },
      "execution_count": null,
      "outputs": [
        {
          "output_type": "execute_result",
          "data": {
            "text/plain": [
              "0.9342663294705793"
            ]
          },
          "metadata": {},
          "execution_count": 28
        }
      ]
    },
    {
      "cell_type": "code",
      "source": [
        "#Confussion Matrix Prediction Score\n",
        "precision_score(y_test, pred_clf)"
      ],
      "metadata": {
        "colab": {
          "base_uri": "https://localhost:8080/"
        },
        "id": "FcuQgd3yuz09",
        "outputId": "03f3ec16-7b53-4344-fd55-bbff9f359ad3"
      },
      "execution_count": null,
      "outputs": [
        {
          "output_type": "execute_result",
          "data": {
            "text/plain": [
              "0.5634406458686335"
            ]
          },
          "metadata": {},
          "execution_count": 29
        }
      ]
    },
    {
      "cell_type": "code",
      "source": [
        "#Confussion Matrix Recall Score\n",
        "recall_score(y_test, pred_clf)"
      ],
      "metadata": {
        "colab": {
          "base_uri": "https://localhost:8080/"
        },
        "id": "juhTfR-TvO7D",
        "outputId": "45449e02-2924-48b2-c4fd-328addfcbb5d"
      },
      "execution_count": null,
      "outputs": [
        {
          "output_type": "execute_result",
          "data": {
            "text/plain": [
              "0.38427027394466723"
            ]
          },
          "metadata": {},
          "execution_count": 30
        }
      ]
    }
  ]
}